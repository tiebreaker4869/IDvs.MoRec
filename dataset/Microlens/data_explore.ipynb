{
 "cells": [
  {
   "cell_type": "code",
   "execution_count": 1,
   "id": "da4ada54-8b73-4806-8768-4cc697ee18f4",
   "metadata": {},
   "outputs": [],
   "source": [
    "import pandas as pd"
   ]
  },
  {
   "cell_type": "code",
   "execution_count": 5,
   "id": "6299849e-f73b-41b8-b612-2f75e5aa15e9",
   "metadata": {},
   "outputs": [],
   "source": [
    "microlens_pairs = pd.read_csv('MicroLens-50k_pairs.tsv', sep='\\t', header=None)"
   ]
  },
  {
   "cell_type": "code",
   "execution_count": 6,
   "id": "47ac5f72-68b2-45e5-8a33-d0c8bd14503c",
   "metadata": {},
   "outputs": [
    {
     "data": {
      "text/html": [
       "<div>\n",
       "<style scoped>\n",
       "    .dataframe tbody tr th:only-of-type {\n",
       "        vertical-align: middle;\n",
       "    }\n",
       "\n",
       "    .dataframe tbody tr th {\n",
       "        vertical-align: top;\n",
       "    }\n",
       "\n",
       "    .dataframe thead th {\n",
       "        text-align: right;\n",
       "    }\n",
       "</style>\n",
       "<table border=\"1\" class=\"dataframe\">\n",
       "  <thead>\n",
       "    <tr style=\"text-align: right;\">\n",
       "      <th></th>\n",
       "      <th>0</th>\n",
       "      <th>1</th>\n",
       "    </tr>\n",
       "  </thead>\n",
       "  <tbody>\n",
       "    <tr>\n",
       "      <th>0</th>\n",
       "      <td>1</td>\n",
       "      <td>1958 6346 15223 17700 1707</td>\n",
       "    </tr>\n",
       "    <tr>\n",
       "      <th>1</th>\n",
       "      <td>2</td>\n",
       "      <td>16657 915 9127 3775 9500 10949 5299</td>\n",
       "    </tr>\n",
       "    <tr>\n",
       "      <th>2</th>\n",
       "      <td>3</td>\n",
       "      <td>8394 11377 6035 5408 18348</td>\n",
       "    </tr>\n",
       "    <tr>\n",
       "      <th>3</th>\n",
       "      <td>4</td>\n",
       "      <td>8723 1564 6158 10743 11230</td>\n",
       "    </tr>\n",
       "    <tr>\n",
       "      <th>4</th>\n",
       "      <td>5</td>\n",
       "      <td>11318 189 138 8461 4365</td>\n",
       "    </tr>\n",
       "  </tbody>\n",
       "</table>\n",
       "</div>"
      ],
      "text/plain": [
       "   0                                    1\n",
       "0  1           1958 6346 15223 17700 1707\n",
       "1  2  16657 915 9127 3775 9500 10949 5299\n",
       "2  3           8394 11377 6035 5408 18348\n",
       "3  4           8723 1564 6158 10743 11230\n",
       "4  5              11318 189 138 8461 4365"
      ]
     },
     "execution_count": 6,
     "metadata": {},
     "output_type": "execute_result"
    }
   ],
   "source": [
    "microlens_pairs.head()"
   ]
  },
  {
   "cell_type": "code",
   "execution_count": 7,
   "id": "fcc55c0d-7050-40c2-a66a-43d7c311513f",
   "metadata": {},
   "outputs": [],
   "source": [
    "microlens_titles = pd.read_csv('MicroLens-50k_titles.csv')"
   ]
  },
  {
   "cell_type": "code",
   "execution_count": 8,
   "id": "1e513813-512e-439a-a955-de9a29ea581d",
   "metadata": {},
   "outputs": [
    {
     "data": {
      "text/html": [
       "<div>\n",
       "<style scoped>\n",
       "    .dataframe tbody tr th:only-of-type {\n",
       "        vertical-align: middle;\n",
       "    }\n",
       "\n",
       "    .dataframe tbody tr th {\n",
       "        vertical-align: top;\n",
       "    }\n",
       "\n",
       "    .dataframe thead th {\n",
       "        text-align: right;\n",
       "    }\n",
       "</style>\n",
       "<table border=\"1\" class=\"dataframe\">\n",
       "  <thead>\n",
       "    <tr style=\"text-align: right;\">\n",
       "      <th></th>\n",
       "      <th>item</th>\n",
       "      <th>title</th>\n",
       "    </tr>\n",
       "  </thead>\n",
       "  <tbody>\n",
       "    <tr>\n",
       "      <th>0</th>\n",
       "      <td>1</td>\n",
       "      <td>Gu long song gaga bad, even three hundred year...</td>\n",
       "    </tr>\n",
       "    <tr>\n",
       "      <th>1</th>\n",
       "      <td>2</td>\n",
       "      <td>beautiful dish with 5 pounds of duck intestine...</td>\n",
       "    </tr>\n",
       "    <tr>\n",
       "      <th>2</th>\n",
       "      <td>3</td>\n",
       "      <td>This sudden reversal, you can't guess the endi...</td>\n",
       "    </tr>\n",
       "    <tr>\n",
       "      <th>3</th>\n",
       "      <td>4</td>\n",
       "      <td>pumpkin play armor new outfit, and listen to m...</td>\n",
       "    </tr>\n",
       "    <tr>\n",
       "      <th>4</th>\n",
       "      <td>5</td>\n",
       "      <td>the wife a day brush 200,000, the husband stop...</td>\n",
       "    </tr>\n",
       "  </tbody>\n",
       "</table>\n",
       "</div>"
      ],
      "text/plain": [
       "   item                                              title\n",
       "0     1  Gu long song gaga bad, even three hundred year...\n",
       "1     2  beautiful dish with 5 pounds of duck intestine...\n",
       "2     3  This sudden reversal, you can't guess the endi...\n",
       "3     4  pumpkin play armor new outfit, and listen to m...\n",
       "4     5  the wife a day brush 200,000, the husband stop..."
      ]
     },
     "execution_count": 8,
     "metadata": {},
     "output_type": "execute_result"
    }
   ],
   "source": [
    "microlens_titles.head()"
   ]
  },
  {
   "cell_type": "code",
   "execution_count": 19,
   "id": "2653124c-8901-4df0-97b6-322e54960998",
   "metadata": {},
   "outputs": [
    {
     "name": "stdout",
     "output_type": "stream",
     "text": [
      "1915\n"
     ]
    }
   ],
   "source": [
    "for i in range(microlens_titles.shape[0]):\n",
    "    if microlens_titles.iloc[i, 0] == 1958:\n",
    "        print(i)"
   ]
  }
 ],
 "metadata": {
  "kernelspec": {
   "display_name": "Python 3 (ipykernel)",
   "language": "python",
   "name": "python3"
  },
  "language_info": {
   "codemirror_mode": {
    "name": "ipython",
    "version": 3
   },
   "file_extension": ".py",
   "mimetype": "text/x-python",
   "name": "python",
   "nbconvert_exporter": "python",
   "pygments_lexer": "ipython3",
   "version": "3.8.10"
  }
 },
 "nbformat": 4,
 "nbformat_minor": 5
}
